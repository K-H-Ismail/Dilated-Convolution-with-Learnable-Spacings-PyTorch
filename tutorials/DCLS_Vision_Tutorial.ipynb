{
  "cells": [
    {
      "cell_type": "markdown",
      "metadata": {
        "id": "GuueVhEpUfIe"
      },
      "source": [
        "# Importing libraries"
      ]
    },
    {
      "cell_type": "code",
      "execution_count": null,
      "metadata": {
        "id": "Re-pZPrtUfIj"
      },
      "outputs": [],
      "source": [
        "import torch\n",
        "import torch.nn as nn\n",
        "import torch.optim as optim\n",
        "import torch.nn.functional as F\n",
        "import torchvision\n",
        "import torchvision.models as models\n",
        "import torchvision.transforms as transforms\n",
        "import torchvision.datasets as datasets\n",
        "\n",
        "import time\n",
        "import matplotlib\n",
        "from matplotlib import pyplot as plt\n",
        "import copy"
      ]
    },
    {
      "cell_type": "markdown",
      "metadata": {
        "id": "tNMhS3wgUfIn"
      },
      "source": [
        "# Installing DCLS and importing Dcls2d"
      ]
    },
    {
      "cell_type": "code",
      "execution_count": null,
      "metadata": {
        "colab": {
          "base_uri": "https://localhost:8080/"
        },
        "id": "4F8tZVkEUfIo",
        "outputId": "39b79c07-2e87-4a2d-978a-d5adb492ffb7"
      },
      "outputs": [
        {
          "output_type": "stream",
          "name": "stdout",
          "text": [
            "Looking in indexes: https://pypi.org/simple, https://us-python.pkg.dev/colab-wheels/public/simple/\n",
            "Collecting dcls\n",
            "  Downloading dcls-0.0.5-py3-none-any.whl (11 kB)\n",
            "Installing collected packages: dcls\n",
            "Successfully installed dcls-0.0.5\n"
          ]
        }
      ],
      "source": [
        "!pip3 install dcls\n",
        "from DCLS.construct.modules import  Dcls2d"
      ]
    },
    {
      "cell_type": "markdown",
      "metadata": {
        "id": "k1Eyk827UfIp"
      },
      "source": [
        "# Fine-tuning a ConvNeXt-T model on STL-10 dataset"
      ]
    },
    {
      "cell_type": "code",
      "execution_count": null,
      "metadata": {
        "colab": {
          "base_uri": "https://localhost:8080/"
        },
        "id": "L1fumeXxUfIp",
        "outputId": "cf006e23-d3c0-436c-f492-fa4801495cde"
      },
      "outputs": [
        {
          "output_type": "stream",
          "name": "stdout",
          "text": [
            "Downloading http://ai.stanford.edu/~acoates/stl10/stl10_binary.tar.gz to ./data/stl10_binary.tar.gz\n"
          ]
        },
        {
          "output_type": "stream",
          "name": "stderr",
          "text": [
            "100%|██████████| 2640397119/2640397119 [02:38<00:00, 16614300.68it/s]\n"
          ]
        },
        {
          "output_type": "stream",
          "name": "stdout",
          "text": [
            "Extracting ./data/stl10_binary.tar.gz to ./data\n",
            "Files already downloaded and verified\n"
          ]
        }
      ],
      "source": [
        "# Set device to GPU if available\n",
        "device = torch.device('cuda' if torch.cuda.is_available() else 'cpu')\n",
        "\n",
        "# Define transforms for the dataset\n",
        "transform = transforms.Compose([\n",
        "    transforms.RandomCrop(96, padding=4),\n",
        "    transforms.RandomHorizontalFlip(),\n",
        "    transforms.ToTensor(),\n",
        "    transforms.Normalize((0.5, 0.5, 0.5), (0.5, 0.5, 0.5))\n",
        "])\n",
        "\n",
        "# Load STL-10 dataset\n",
        "train_dataset = datasets.STL10(root='./data', split='train', download=True, transform=transform)\n",
        "test_dataset = datasets.STL10(root='./data', split='test', download=True, transform=transform)\n",
        "\n",
        "# Create data loaders\n",
        "train_loader = torch.utils.data.DataLoader(train_dataset, batch_size=128, shuffle=True)\n",
        "test_loader = torch.utils.data.DataLoader(test_dataset, batch_size=128, shuffle=False)"
      ]
    },
    {
      "cell_type": "code",
      "execution_count": null,
      "metadata": {
        "id": "flwLmy2XUfIq"
      },
      "outputs": [],
      "source": [
        "# ConvNeXt model\n",
        "class Block(nn.Module):\n",
        "    r\"\"\" ConvNeXt Block. There are two equivalent implementations:\n",
        "    (1) DwConv -> LayerNorm (channels_first) -> 1x1 Conv -> GELU -> 1x1 Conv; all in (N, C, H, W)\n",
        "    (2) DwConv -> Permute to (N, H, W, C); LayerNorm (channels_last) -> Linear -> GELU -> Linear; Permute back\n",
        "    We use (2) as we find it slightly faster in PyTorch\n",
        "\n",
        "    Args:\n",
        "        dim (int): Number of input channels.\n",
        "        drop_path (float): Stochastic depth rate. Default: 0.0\n",
        "        layer_scale_init_value (float): Init value for Layer Scale. Default: 1e-6.\n",
        "    \"\"\"\n",
        "    def __init__(self, dim, drop_path=0., layer_scale_init_value=1e-6):\n",
        "        super().__init__()\n",
        "        self.dwconv = nn.Conv2d(dim, dim, kernel_size=7, padding=3, groups=dim) # depthwise conv\n",
        "        self.norm = LayerNorm(dim, eps=1e-6)\n",
        "        self.pwconv1 = nn.Linear(dim, 4 * dim) # pointwise/1x1 convs, implemented with linear layers\n",
        "        self.act = nn.GELU()\n",
        "        self.pwconv2 = nn.Linear(4 * dim, dim)\n",
        "        self.gamma = nn.Parameter(layer_scale_init_value * torch.ones((dim)),\n",
        "                                    requires_grad=True) if layer_scale_init_value > 0 else None\n",
        "        self.drop_path = torchvision.ops.StochasticDepth(p=drop_path, mode='row') if drop_path > 0. else nn.Identity()\n",
        "\n",
        "    def forward(self, x):\n",
        "        input = x\n",
        "        x = self.dwconv(x)\n",
        "        x = x.permute(0, 2, 3, 1) # (N, C, H, W) -> (N, H, W, C)\n",
        "        x = self.norm(x)\n",
        "        x = self.pwconv1(x)\n",
        "        x = self.act(x)\n",
        "        x = self.pwconv2(x)\n",
        "        if self.gamma is not None:\n",
        "            x = self.gamma * x\n",
        "        x = x.permute(0, 3, 1, 2) # (N, H, W, C) -> (N, C, H, W)\n",
        "\n",
        "        x = input + self.drop_path(x)\n",
        "        return x\n",
        "\n",
        "class ConvNeXt(nn.Module):\n",
        "    r\"\"\" ConvNeXt\n",
        "        A PyTorch impl of : `A ConvNet for the 2020s`  -\n",
        "          https://arxiv.org/pdf/2201.03545.pdf\n",
        "\n",
        "    Args:\n",
        "        in_chans (int): Number of input image channels. Default: 3\n",
        "        num_classes (int): Number of classes for classification head. Default: 1000\n",
        "        depths (tuple(int)): Number of blocks at each stage. Default: [3, 3, 9, 3]\n",
        "        dims (int): Feature dimension at each stage. Default: [96, 192, 384, 768]\n",
        "        drop_path_rate (float): Stochastic depth rate. Default: 0.\n",
        "        layer_scale_init_value (float): Init value for Layer Scale. Default: 1e-6.\n",
        "        head_init_scale (float): Init scaling value for classifier weights and biases. Default: 1.\n",
        "    \"\"\"\n",
        "    def __init__(self, in_chans=3, num_classes=1000,\n",
        "                 depths=[3, 3, 9, 3], dims=[96, 192, 384, 768], drop_path_rate=0.,\n",
        "                 layer_scale_init_value=1e-6, head_init_scale=1.,\n",
        "                 ):\n",
        "        super().__init__()\n",
        "\n",
        "        self.downsample_layers = nn.ModuleList() # stem and 3 intermediate downsampling conv layers\n",
        "        stem = nn.Sequential(\n",
        "            nn.Conv2d(in_chans, dims[0], kernel_size=4, stride=4),\n",
        "            LayerNorm(dims[0], eps=1e-6, data_format=\"channels_first\")\n",
        "        )\n",
        "        self.downsample_layers.append(stem)\n",
        "        for i in range(3):\n",
        "            downsample_layer = nn.Sequential(\n",
        "                    LayerNorm(dims[i], eps=1e-6, data_format=\"channels_first\"),\n",
        "                    nn.Conv2d(dims[i], dims[i+1], kernel_size=2, stride=2),\n",
        "            )\n",
        "            self.downsample_layers.append(downsample_layer)\n",
        "\n",
        "        self.stages = nn.ModuleList() # 4 feature resolution stages, each consisting of multiple residual blocks\n",
        "        dp_rates=[x.item() for x in torch.linspace(0, drop_path_rate, sum(depths))]\n",
        "        cur = 0\n",
        "        for i in range(4):\n",
        "            stage = nn.Sequential(\n",
        "                *[Block(dim=dims[i], drop_path=dp_rates[cur + j],\n",
        "                layer_scale_init_value=layer_scale_init_value) for j in range(depths[i])]\n",
        "            )\n",
        "            self.stages.append(stage)\n",
        "            cur += depths[i]\n",
        "\n",
        "        self.norm = nn.LayerNorm(dims[-1], eps=1e-6) # final norm layer\n",
        "        self.head = nn.Linear(dims[-1], num_classes)\n",
        "\n",
        "        self.apply(self._init_weights)\n",
        "        self.head.weight.data.mul_(head_init_scale)\n",
        "        self.head.bias.data.mul_(head_init_scale)\n",
        "\n",
        "    def _init_weights(self, m):\n",
        "        if isinstance(m, (nn.Conv2d, nn.Linear)):\n",
        "            nn.init.normal_(m.weight, std=.02)\n",
        "            nn.init.constant_(m.bias, 0)\n",
        "\n",
        "    def forward_features(self, x):\n",
        "        for i in range(4):\n",
        "            x = self.downsample_layers[i](x)\n",
        "            x = self.stages[i](x)\n",
        "        return self.norm(x.mean([-2, -1])) # global average pooling, (N, C, H, W) -> (N, C)\n",
        "\n",
        "    def forward(self, x):\n",
        "        x = self.forward_features(x)\n",
        "        x = self.head(x)\n",
        "        return x\n",
        "\n",
        "class LayerNorm(nn.Module):\n",
        "    r\"\"\" LayerNorm that supports two data formats: channels_last (default) or channels_first.\n",
        "    The ordering of the dimensions in the inputs. channels_last corresponds to inputs with\n",
        "    shape (batch_size, height, width, channels) while channels_first corresponds to inputs\n",
        "    with shape (batch_size, channels, height, width).\n",
        "    \"\"\"\n",
        "    def __init__(self, normalized_shape, eps=1e-6, data_format=\"channels_last\"):\n",
        "        super().__init__()\n",
        "        self.weight = nn.Parameter(torch.ones(normalized_shape))\n",
        "        self.bias = nn.Parameter(torch.zeros(normalized_shape))\n",
        "        self.eps = eps\n",
        "        self.data_format = data_format\n",
        "        if self.data_format not in [\"channels_last\", \"channels_first\"]:\n",
        "            raise NotImplementedError\n",
        "        self.normalized_shape = (normalized_shape, )\n",
        "\n",
        "    def forward(self, x):\n",
        "        if self.data_format == \"channels_last\":\n",
        "            return F.layer_norm(x, self.normalized_shape, self.weight, self.bias, self.eps)\n",
        "        elif self.data_format == \"channels_first\":\n",
        "            u = x.mean(1, keepdim=True)\n",
        "            s = (x - u).pow(2).mean(1, keepdim=True)\n",
        "            x = (x - u) / torch.sqrt(s + self.eps)\n",
        "            x = self.weight[:, None, None] * x + self.bias[:, None, None]\n",
        "            return x\n",
        "\n",
        "\n",
        "model_urls = {\n",
        "    \"convnext_tiny_1k\": \"https://dl.fbaipublicfiles.com/convnext/convnext_tiny_1k_224_ema.pth\",\n",
        "    \"convnext_dcls_gauss_tiny_1k\": \"https://zenodo.org/record/8029747/files/convnext_dcls_gauss_tiny_1k_224_ema.pth\",\n",
        "}\n",
        "\n",
        "def load_checkpoint(model, checkpoint_name='convnext_tiny_1k'):\n",
        "    url = model_urls[checkpoint_name]\n",
        "    checkpoint = torch.hub.load_state_dict_from_url(url=url, map_location=\"cpu\", check_hash=True)\n",
        "    print(model.load_state_dict(checkpoint[\"model\"]))\n",
        "\n",
        "def convnext_tiny(pretrained=False, **kwargs):\n",
        "    model = ConvNeXt(depths=[3, 3, 9, 3], dims=[96, 192, 384, 768], **kwargs)\n",
        "    if pretrained:\n",
        "        url = model_urls['convnext_tiny_1k']\n",
        "        checkpoint = torch.hub.load_state_dict_from_url(url=url, map_location=\"cpu\", check_hash=True)\n",
        "        model.load_state_dict(checkpoint[\"model\"])\n",
        "    return model"
      ]
    },
    {
      "cell_type": "code",
      "execution_count": null,
      "metadata": {
        "colab": {
          "base_uri": "https://localhost:8080/"
        },
        "id": "Zl4Ml-YJUfIs",
        "outputId": "e40caf17-b047-441b-ec06-3ccca6ecf5f8"
      },
      "outputs": [
        {
          "output_type": "stream",
          "name": "stdout",
          "text": [
            "Number of parameters of the model: 28.59 M\n"
          ]
        }
      ],
      "source": [
        "# Load pre-trained ConvNeXt-T model\n",
        "model = convnext_tiny(pretrained=True)\n",
        "n_parameters = sum(p.numel() for p in model.parameters() if p.requires_grad)\n",
        "print(f\"Number of parameters of the model: {n_parameters/1e6:.2f} M\")"
      ]
    },
    {
      "cell_type": "code",
      "execution_count": null,
      "metadata": {
        "id": "vDVDDQ_pUfIt"
      },
      "outputs": [],
      "source": [
        "# Freeze all the layers except the last fully connected layer\n",
        "for param in model.parameters():\n",
        "    param.requires_grad = False"
      ]
    },
    {
      "cell_type": "code",
      "execution_count": null,
      "metadata": {
        "colab": {
          "base_uri": "https://localhost:8080/"
        },
        "id": "pzQ8hDgaUfIu",
        "outputId": "9dd02661-312a-4523-8b80-b05f5a1bf733"
      },
      "outputs": [
        {
          "output_type": "execute_result",
          "data": {
            "text/plain": [
              "ConvNeXt(\n",
              "  (downsample_layers): ModuleList(\n",
              "    (0): Sequential(\n",
              "      (0): Conv2d(3, 96, kernel_size=(4, 4), stride=(4, 4))\n",
              "      (1): LayerNorm()\n",
              "    )\n",
              "    (1): Sequential(\n",
              "      (0): LayerNorm()\n",
              "      (1): Conv2d(96, 192, kernel_size=(2, 2), stride=(2, 2))\n",
              "    )\n",
              "    (2): Sequential(\n",
              "      (0): LayerNorm()\n",
              "      (1): Conv2d(192, 384, kernel_size=(2, 2), stride=(2, 2))\n",
              "    )\n",
              "    (3): Sequential(\n",
              "      (0): LayerNorm()\n",
              "      (1): Conv2d(384, 768, kernel_size=(2, 2), stride=(2, 2))\n",
              "    )\n",
              "  )\n",
              "  (stages): ModuleList(\n",
              "    (0): Sequential(\n",
              "      (0): Block(\n",
              "        (dwconv): Conv2d(96, 96, kernel_size=(7, 7), stride=(1, 1), padding=(3, 3), groups=96)\n",
              "        (norm): LayerNorm()\n",
              "        (pwconv1): Linear(in_features=96, out_features=384, bias=True)\n",
              "        (act): GELU(approximate='none')\n",
              "        (pwconv2): Linear(in_features=384, out_features=96, bias=True)\n",
              "        (drop_path): Identity()\n",
              "      )\n",
              "      (1): Block(\n",
              "        (dwconv): Conv2d(96, 96, kernel_size=(7, 7), stride=(1, 1), padding=(3, 3), groups=96)\n",
              "        (norm): LayerNorm()\n",
              "        (pwconv1): Linear(in_features=96, out_features=384, bias=True)\n",
              "        (act): GELU(approximate='none')\n",
              "        (pwconv2): Linear(in_features=384, out_features=96, bias=True)\n",
              "        (drop_path): Identity()\n",
              "      )\n",
              "      (2): Block(\n",
              "        (dwconv): Conv2d(96, 96, kernel_size=(7, 7), stride=(1, 1), padding=(3, 3), groups=96)\n",
              "        (norm): LayerNorm()\n",
              "        (pwconv1): Linear(in_features=96, out_features=384, bias=True)\n",
              "        (act): GELU(approximate='none')\n",
              "        (pwconv2): Linear(in_features=384, out_features=96, bias=True)\n",
              "        (drop_path): Identity()\n",
              "      )\n",
              "    )\n",
              "    (1): Sequential(\n",
              "      (0): Block(\n",
              "        (dwconv): Conv2d(192, 192, kernel_size=(7, 7), stride=(1, 1), padding=(3, 3), groups=192)\n",
              "        (norm): LayerNorm()\n",
              "        (pwconv1): Linear(in_features=192, out_features=768, bias=True)\n",
              "        (act): GELU(approximate='none')\n",
              "        (pwconv2): Linear(in_features=768, out_features=192, bias=True)\n",
              "        (drop_path): Identity()\n",
              "      )\n",
              "      (1): Block(\n",
              "        (dwconv): Conv2d(192, 192, kernel_size=(7, 7), stride=(1, 1), padding=(3, 3), groups=192)\n",
              "        (norm): LayerNorm()\n",
              "        (pwconv1): Linear(in_features=192, out_features=768, bias=True)\n",
              "        (act): GELU(approximate='none')\n",
              "        (pwconv2): Linear(in_features=768, out_features=192, bias=True)\n",
              "        (drop_path): Identity()\n",
              "      )\n",
              "      (2): Block(\n",
              "        (dwconv): Conv2d(192, 192, kernel_size=(7, 7), stride=(1, 1), padding=(3, 3), groups=192)\n",
              "        (norm): LayerNorm()\n",
              "        (pwconv1): Linear(in_features=192, out_features=768, bias=True)\n",
              "        (act): GELU(approximate='none')\n",
              "        (pwconv2): Linear(in_features=768, out_features=192, bias=True)\n",
              "        (drop_path): Identity()\n",
              "      )\n",
              "    )\n",
              "    (2): Sequential(\n",
              "      (0): Block(\n",
              "        (dwconv): Conv2d(384, 384, kernel_size=(7, 7), stride=(1, 1), padding=(3, 3), groups=384)\n",
              "        (norm): LayerNorm()\n",
              "        (pwconv1): Linear(in_features=384, out_features=1536, bias=True)\n",
              "        (act): GELU(approximate='none')\n",
              "        (pwconv2): Linear(in_features=1536, out_features=384, bias=True)\n",
              "        (drop_path): Identity()\n",
              "      )\n",
              "      (1): Block(\n",
              "        (dwconv): Conv2d(384, 384, kernel_size=(7, 7), stride=(1, 1), padding=(3, 3), groups=384)\n",
              "        (norm): LayerNorm()\n",
              "        (pwconv1): Linear(in_features=384, out_features=1536, bias=True)\n",
              "        (act): GELU(approximate='none')\n",
              "        (pwconv2): Linear(in_features=1536, out_features=384, bias=True)\n",
              "        (drop_path): Identity()\n",
              "      )\n",
              "      (2): Block(\n",
              "        (dwconv): Conv2d(384, 384, kernel_size=(7, 7), stride=(1, 1), padding=(3, 3), groups=384)\n",
              "        (norm): LayerNorm()\n",
              "        (pwconv1): Linear(in_features=384, out_features=1536, bias=True)\n",
              "        (act): GELU(approximate='none')\n",
              "        (pwconv2): Linear(in_features=1536, out_features=384, bias=True)\n",
              "        (drop_path): Identity()\n",
              "      )\n",
              "      (3): Block(\n",
              "        (dwconv): Conv2d(384, 384, kernel_size=(7, 7), stride=(1, 1), padding=(3, 3), groups=384)\n",
              "        (norm): LayerNorm()\n",
              "        (pwconv1): Linear(in_features=384, out_features=1536, bias=True)\n",
              "        (act): GELU(approximate='none')\n",
              "        (pwconv2): Linear(in_features=1536, out_features=384, bias=True)\n",
              "        (drop_path): Identity()\n",
              "      )\n",
              "      (4): Block(\n",
              "        (dwconv): Conv2d(384, 384, kernel_size=(7, 7), stride=(1, 1), padding=(3, 3), groups=384)\n",
              "        (norm): LayerNorm()\n",
              "        (pwconv1): Linear(in_features=384, out_features=1536, bias=True)\n",
              "        (act): GELU(approximate='none')\n",
              "        (pwconv2): Linear(in_features=1536, out_features=384, bias=True)\n",
              "        (drop_path): Identity()\n",
              "      )\n",
              "      (5): Block(\n",
              "        (dwconv): Conv2d(384, 384, kernel_size=(7, 7), stride=(1, 1), padding=(3, 3), groups=384)\n",
              "        (norm): LayerNorm()\n",
              "        (pwconv1): Linear(in_features=384, out_features=1536, bias=True)\n",
              "        (act): GELU(approximate='none')\n",
              "        (pwconv2): Linear(in_features=1536, out_features=384, bias=True)\n",
              "        (drop_path): Identity()\n",
              "      )\n",
              "      (6): Block(\n",
              "        (dwconv): Conv2d(384, 384, kernel_size=(7, 7), stride=(1, 1), padding=(3, 3), groups=384)\n",
              "        (norm): LayerNorm()\n",
              "        (pwconv1): Linear(in_features=384, out_features=1536, bias=True)\n",
              "        (act): GELU(approximate='none')\n",
              "        (pwconv2): Linear(in_features=1536, out_features=384, bias=True)\n",
              "        (drop_path): Identity()\n",
              "      )\n",
              "      (7): Block(\n",
              "        (dwconv): Conv2d(384, 384, kernel_size=(7, 7), stride=(1, 1), padding=(3, 3), groups=384)\n",
              "        (norm): LayerNorm()\n",
              "        (pwconv1): Linear(in_features=384, out_features=1536, bias=True)\n",
              "        (act): GELU(approximate='none')\n",
              "        (pwconv2): Linear(in_features=1536, out_features=384, bias=True)\n",
              "        (drop_path): Identity()\n",
              "      )\n",
              "      (8): Block(\n",
              "        (dwconv): Conv2d(384, 384, kernel_size=(7, 7), stride=(1, 1), padding=(3, 3), groups=384)\n",
              "        (norm): LayerNorm()\n",
              "        (pwconv1): Linear(in_features=384, out_features=1536, bias=True)\n",
              "        (act): GELU(approximate='none')\n",
              "        (pwconv2): Linear(in_features=1536, out_features=384, bias=True)\n",
              "        (drop_path): Identity()\n",
              "      )\n",
              "    )\n",
              "    (3): Sequential(\n",
              "      (0): Block(\n",
              "        (dwconv): Conv2d(768, 768, kernel_size=(7, 7), stride=(1, 1), padding=(3, 3), groups=768)\n",
              "        (norm): LayerNorm()\n",
              "        (pwconv1): Linear(in_features=768, out_features=3072, bias=True)\n",
              "        (act): GELU(approximate='none')\n",
              "        (pwconv2): Linear(in_features=3072, out_features=768, bias=True)\n",
              "        (drop_path): Identity()\n",
              "      )\n",
              "      (1): Block(\n",
              "        (dwconv): Conv2d(768, 768, kernel_size=(7, 7), stride=(1, 1), padding=(3, 3), groups=768)\n",
              "        (norm): LayerNorm()\n",
              "        (pwconv1): Linear(in_features=768, out_features=3072, bias=True)\n",
              "        (act): GELU(approximate='none')\n",
              "        (pwconv2): Linear(in_features=3072, out_features=768, bias=True)\n",
              "        (drop_path): Identity()\n",
              "      )\n",
              "      (2): Block(\n",
              "        (dwconv): Conv2d(768, 768, kernel_size=(7, 7), stride=(1, 1), padding=(3, 3), groups=768)\n",
              "        (norm): LayerNorm()\n",
              "        (pwconv1): Linear(in_features=768, out_features=3072, bias=True)\n",
              "        (act): GELU(approximate='none')\n",
              "        (pwconv2): Linear(in_features=3072, out_features=768, bias=True)\n",
              "        (drop_path): Identity()\n",
              "      )\n",
              "    )\n",
              "  )\n",
              "  (norm): LayerNorm((768,), eps=1e-06, elementwise_affine=True)\n",
              "  (head): Linear(in_features=768, out_features=10, bias=True)\n",
              ")"
            ]
          },
          "metadata": {},
          "execution_count": 23
        }
      ],
      "source": [
        "# Replace the last fully connected layer to match the number of classes in STL-10\n",
        "num_classes = 10\n",
        "model.head = nn.Linear(768, num_classes)\n",
        "model.to(device)"
      ]
    },
    {
      "cell_type": "code",
      "execution_count": null,
      "metadata": {
        "id": "q743FVmsUfIv"
      },
      "outputs": [],
      "source": [
        "# Define loss function and optimizer\n",
        "criterion = nn.CrossEntropyLoss()\n",
        "optimizer = optim.Adam(model.head.parameters(), lr=0.001)"
      ]
    },
    {
      "cell_type": "code",
      "execution_count": null,
      "metadata": {
        "id": "EOMobZUyUfIv"
      },
      "outputs": [],
      "source": [
        "# Define a train loop\n",
        "def train_and_test(model, criterion, optimizer):\n",
        "  start_time = time.time()\n",
        "  # Training loop\n",
        "  num_epochs = 10\n",
        "  stats_dict = dict(train_loss = [], train_acc = [], test_loss = [], test_acc = [])\n",
        "  for epoch in range(num_epochs):\n",
        "      model.train()  # Set model to training mode\n",
        "      running_loss = 0.0\n",
        "      correct = 0\n",
        "      total = 0\n",
        "\n",
        "      for images, labels in train_loader:\n",
        "          images = images.to(device)\n",
        "          labels = labels.to(device)\n",
        "\n",
        "          optimizer.zero_grad()\n",
        "\n",
        "          outputs = model(images)\n",
        "          loss = criterion(outputs, labels)\n",
        "          loss.backward()\n",
        "          optimizer.step()\n",
        "\n",
        "          running_loss += loss.item()\n",
        "          _, predicted = outputs.max(1)\n",
        "          total += labels.size(0)\n",
        "          correct += predicted.eq(labels).sum().item()\n",
        "\n",
        "      train_loss = running_loss / len(train_loader)\n",
        "      train_acc = 100.0 * correct / total\n",
        "\n",
        "      # Evaluate on the test set\n",
        "      model.eval()  # Set model to evaluation mode\n",
        "      test_loss = 0.0\n",
        "      correct = 0\n",
        "      total = 0\n",
        "\n",
        "      with torch.no_grad():\n",
        "          for images, labels in test_loader:\n",
        "              images = images.to(device)\n",
        "              labels = labels.to(device)\n",
        "\n",
        "              outputs = model(images)\n",
        "              loss = criterion(outputs, labels)\n",
        "\n",
        "              test_loss += loss.item()\n",
        "              _, predicted = outputs.max(1)\n",
        "              total += labels.size(0)\n",
        "              correct += predicted.eq(labels).sum().item()\n",
        "\n",
        "      test_loss /= len(test_loader)\n",
        "      test_acc = 100.0 * correct / total\n",
        "\n",
        "      # Print epoch statistics\n",
        "      stats_dict['train_loss'].append(train_loss); stats_dict['train_acc'].append(train_acc)\n",
        "      stats_dict['test_loss'].append(test_loss); stats_dict['test_acc'].append(test_acc)\n",
        "      print(f'Epoch [{epoch+1}/{num_epochs}]: Train Loss: {train_loss:.4f} | Train Acc: {train_acc:.2f}% | '\n",
        "            f'Test Loss: {test_loss:.4f} | Test Acc: {test_acc:.2f}%')\n",
        "\n",
        "  end_time = time.time()\n",
        "  elapsed_time = end_time - start_time\n",
        "  print(f'Elapsed time: {elapsed_time:.2f} (s)')\n",
        "\n",
        "  return stats_dict"
      ]
    },
    {
      "cell_type": "code",
      "execution_count": null,
      "metadata": {
        "colab": {
          "base_uri": "https://localhost:8080/"
        },
        "id": "JhL8psXRUfIw",
        "outputId": "83f9f7a9-2829-4226-cdea-f670dd061d9c"
      },
      "outputs": [
        {
          "output_type": "stream",
          "name": "stdout",
          "text": [
            "Epoch [1/10]: Train Loss: 1.2787 | Train Acc: 84.22% | Test Loss: 0.6499 | Test Acc: 94.38%\n",
            "Epoch [2/10]: Train Loss: 0.4633 | Train Acc: 94.78% | Test Loss: 0.3624 | Test Acc: 95.22%\n",
            "Epoch [3/10]: Train Loss: 0.3038 | Train Acc: 95.64% | Test Loss: 0.2709 | Test Acc: 95.44%\n",
            "Epoch [4/10]: Train Loss: 0.2327 | Train Acc: 96.08% | Test Loss: 0.2305 | Test Acc: 95.45%\n",
            "Epoch [5/10]: Train Loss: 0.1998 | Train Acc: 95.96% | Test Loss: 0.2042 | Test Acc: 95.92%\n",
            "Epoch [6/10]: Train Loss: 0.1808 | Train Acc: 96.14% | Test Loss: 0.1831 | Test Acc: 95.89%\n",
            "Epoch [7/10]: Train Loss: 0.1576 | Train Acc: 96.58% | Test Loss: 0.1718 | Test Acc: 96.06%\n",
            "Epoch [8/10]: Train Loss: 0.1429 | Train Acc: 96.90% | Test Loss: 0.1649 | Test Acc: 95.94%\n",
            "Epoch [9/10]: Train Loss: 0.1352 | Train Acc: 96.90% | Test Loss: 0.1578 | Test Acc: 95.84%\n",
            "Epoch [10/10]: Train Loss: 0.1311 | Train Acc: 96.92% | Test Loss: 0.1517 | Test Acc: 95.88%\n",
            "Elapsed time: 201.00 (s)\n"
          ]
        }
      ],
      "source": [
        "# train and test the model\n",
        "convnext_tiny_stats = train_and_test(model, criterion, optimizer)"
      ]
    },
    {
      "cell_type": "markdown",
      "metadata": {
        "id": "H2Af6O3fUfIw"
      },
      "source": [
        "# Fine-tuning a ConvNeXt-T-DCLS model on STL-10 dataset"
      ]
    },
    {
      "cell_type": "code",
      "execution_count": null,
      "metadata": {
        "id": "wZo6aoBfUfIx"
      },
      "outputs": [],
      "source": [
        "# Helper function that replaces all \".int.\" patterns\n",
        "# by \"[int]\" in a character string\n",
        "def replace_dots_brackets(name):\n",
        "  name_split = name.split('.')\n",
        "  name_split = ['[' + i + ']' if i.isdigit() else '.' + i  for i in name_split]\n",
        "\n",
        "  return ''.join(name_split[:-1]), name_split[-1][1:]\n",
        "\n",
        "# Helper function that replaces all the\n",
        "# 2D depthwise separable convolution in\n",
        "# a model by synchronized Dcls2d ones\n",
        "def replace_depthwise_dcls(model, dilated_kernel_size = 23, kernel_count = 26, version = 'gauss'):\n",
        "  in_channels, P, SIG = 0, None, None\n",
        "  # Loop over all model modules\n",
        "  for name, module in model.named_modules():\n",
        "      # if the module is a depthwise separable Conv2d module\n",
        "      if isinstance(module, nn.Conv2d) and module.groups == module.in_channels:\n",
        "          name_eval, last_layer = replace_dots_brackets(name)\n",
        "          dcls_conv = Dcls2d(module.in_channels, module.out_channels,\n",
        "                           kernel_count=kernel_count,\n",
        "                           dilated_kernel_size=dilated_kernel_size,\n",
        "                           padding=dilated_kernel_size//2,\n",
        "                           groups=module.in_channels, version=version)\n",
        "\n",
        "          nn.init.normal_(dcls_conv.weight, std=.02)\n",
        "          nn.init.constant_(dcls_conv.bias, 0)\n",
        "\n",
        "          # Synchronise positions and standard\n",
        "          # deviations belonging to the same stage\n",
        "          if in_channels < module.in_channels :\n",
        "            in_channels = module.in_channels\n",
        "            P, SIG = dcls_conv.P, dcls_conv.SIG\n",
        "\n",
        "          dcls_conv.P, dcls_conv.SIG = P, SIG\n",
        "\n",
        "          setattr(eval(\"model\" + name_eval), last_layer, dcls_conv)\n",
        "  return model"
      ]
    },
    {
      "cell_type": "code",
      "execution_count": null,
      "metadata": {
        "id": "_mZS0s0yUfIx"
      },
      "outputs": [],
      "source": [
        "# Load an empty ConvNeXt-T model\n",
        "model = convnext_tiny()"
      ]
    },
    {
      "cell_type": "code",
      "execution_count": null,
      "metadata": {
        "colab": {
          "base_uri": "https://localhost:8080/"
        },
        "id": "YxfvDF-lUfIy",
        "outputId": "6a56223a-dfcc-46d6-cf73-1be45a98d88e"
      },
      "outputs": [
        {
          "output_type": "stream",
          "name": "stderr",
          "text": [
            "WARNING:root:DepthWiseConv2dImplicitGEMM not installed\n",
            "WARNING:root:switching to native conv2d\n",
            "WARNING:root:DepthWiseConv2dImplicitGEMM not installed\n",
            "WARNING:root:switching to native conv2d\n",
            "WARNING:root:DepthWiseConv2dImplicitGEMM not installed\n",
            "WARNING:root:switching to native conv2d\n",
            "WARNING:root:DepthWiseConv2dImplicitGEMM not installed\n",
            "WARNING:root:switching to native conv2d\n",
            "WARNING:root:DepthWiseConv2dImplicitGEMM not installed\n",
            "WARNING:root:switching to native conv2d\n",
            "WARNING:root:DepthWiseConv2dImplicitGEMM not installed\n",
            "WARNING:root:switching to native conv2d\n",
            "WARNING:root:DepthWiseConv2dImplicitGEMM not installed\n",
            "WARNING:root:switching to native conv2d\n",
            "WARNING:root:DepthWiseConv2dImplicitGEMM not installed\n",
            "WARNING:root:switching to native conv2d\n",
            "WARNING:root:DepthWiseConv2dImplicitGEMM not installed\n",
            "WARNING:root:switching to native conv2d\n",
            "WARNING:root:DepthWiseConv2dImplicitGEMM not installed\n",
            "WARNING:root:switching to native conv2d\n",
            "WARNING:root:DepthWiseConv2dImplicitGEMM not installed\n",
            "WARNING:root:switching to native conv2d\n",
            "WARNING:root:DepthWiseConv2dImplicitGEMM not installed\n",
            "WARNING:root:switching to native conv2d\n",
            "WARNING:root:DepthWiseConv2dImplicitGEMM not installed\n",
            "WARNING:root:switching to native conv2d\n",
            "WARNING:root:DepthWiseConv2dImplicitGEMM not installed\n",
            "WARNING:root:switching to native conv2d\n",
            "WARNING:root:DepthWiseConv2dImplicitGEMM not installed\n",
            "WARNING:root:switching to native conv2d\n",
            "WARNING:root:DepthWiseConv2dImplicitGEMM not installed\n",
            "WARNING:root:switching to native conv2d\n",
            "WARNING:root:DepthWiseConv2dImplicitGEMM not installed\n",
            "WARNING:root:switching to native conv2d\n",
            "WARNING:root:DepthWiseConv2dImplicitGEMM not installed\n",
            "WARNING:root:switching to native conv2d\n"
          ]
        }
      ],
      "source": [
        "# Replace all the 2D depthwise separable convolutions\n",
        "# in the model by synchronized Dcls2d ones. Here, we\n",
        "# use a dilated kernel size of 23, a kernel count of\n",
        "# 26 (to stay at iso-paramters with the baseline)\n",
        "# and Gaussian interpolation\n",
        "model_dcls = replace_depthwise_dcls(copy.deepcopy(model),\n",
        "                                    dilated_kernel_size = 23,\n",
        "                                    kernel_count = 26, version = 'gauss')"
      ]
    },
    {
      "cell_type": "code",
      "execution_count": null,
      "metadata": {
        "colab": {
          "base_uri": "https://localhost:8080/"
        },
        "id": "795Fz_iJUfIz",
        "outputId": "675c530f-2488-4457-b767-78444e1291e8"
      },
      "outputs": [
        {
          "output_type": "stream",
          "name": "stdout",
          "text": [
            "<All keys matched successfully>\n",
            "Number of parameters of the model: 28.59 M\n"
          ]
        }
      ],
      "source": [
        "# Load pre-trained ConvNeXt-T-DCLS model\n",
        "load_checkpoint(model_dcls, 'convnext_dcls_gauss_tiny_1k')\n",
        "n_parameters = sum(p.numel() for p in model.parameters() if p.requires_grad)\n",
        "print(f\"Number of parameters of the model: {n_parameters/1e6:.2f} M\")"
      ]
    },
    {
      "cell_type": "code",
      "execution_count": null,
      "metadata": {
        "id": "vb2M3mO5UfIz"
      },
      "outputs": [],
      "source": [
        "# Freeze all the layers except the last fully connected layer\n",
        "for param in model_dcls.parameters():\n",
        "    param.requires_grad = False"
      ]
    },
    {
      "cell_type": "code",
      "execution_count": null,
      "metadata": {
        "colab": {
          "base_uri": "https://localhost:8080/"
        },
        "id": "Te1-5mqBUfIz",
        "outputId": "84bfaa4a-a959-4ade-c83e-ed54ce96ffcb"
      },
      "outputs": [
        {
          "output_type": "execute_result",
          "data": {
            "text/plain": [
              "ConvNeXt(\n",
              "  (downsample_layers): ModuleList(\n",
              "    (0): Sequential(\n",
              "      (0): Conv2d(3, 96, kernel_size=(4, 4), stride=(4, 4))\n",
              "      (1): LayerNorm()\n",
              "    )\n",
              "    (1): Sequential(\n",
              "      (0): LayerNorm()\n",
              "      (1): Conv2d(96, 192, kernel_size=(2, 2), stride=(2, 2))\n",
              "    )\n",
              "    (2): Sequential(\n",
              "      (0): LayerNorm()\n",
              "      (1): Conv2d(192, 384, kernel_size=(2, 2), stride=(2, 2))\n",
              "    )\n",
              "    (3): Sequential(\n",
              "      (0): LayerNorm()\n",
              "      (1): Conv2d(384, 768, kernel_size=(2, 2), stride=(2, 2))\n",
              "    )\n",
              "  )\n",
              "  (stages): ModuleList(\n",
              "    (0): Sequential(\n",
              "      (0): Block(\n",
              "        (dwconv): Dcls2d(\n",
              "          96, 96, kernel_count=26 (previous kernel_size), stride=(1, 1), version=gauss, padding=(11, 11), dilated_kernel_size=(23, 23) (learnable), groups=96, (using torch im2col GEMM)\n",
              "          (DCK): ConstructKernel2d(96, 96, kernel_count=26, version=gauss, dilated_kernel_size=(23, 23), groups=96)\n",
              "        )\n",
              "        (norm): LayerNorm()\n",
              "        (pwconv1): Linear(in_features=96, out_features=384, bias=True)\n",
              "        (act): GELU(approximate='none')\n",
              "        (pwconv2): Linear(in_features=384, out_features=96, bias=True)\n",
              "        (drop_path): Identity()\n",
              "      )\n",
              "      (1): Block(\n",
              "        (dwconv): Dcls2d(\n",
              "          96, 96, kernel_count=26 (previous kernel_size), stride=(1, 1), version=gauss, padding=(11, 11), dilated_kernel_size=(23, 23) (learnable), groups=96, (using torch im2col GEMM)\n",
              "          (DCK): ConstructKernel2d(96, 96, kernel_count=26, version=gauss, dilated_kernel_size=(23, 23), groups=96)\n",
              "        )\n",
              "        (norm): LayerNorm()\n",
              "        (pwconv1): Linear(in_features=96, out_features=384, bias=True)\n",
              "        (act): GELU(approximate='none')\n",
              "        (pwconv2): Linear(in_features=384, out_features=96, bias=True)\n",
              "        (drop_path): Identity()\n",
              "      )\n",
              "      (2): Block(\n",
              "        (dwconv): Dcls2d(\n",
              "          96, 96, kernel_count=26 (previous kernel_size), stride=(1, 1), version=gauss, padding=(11, 11), dilated_kernel_size=(23, 23) (learnable), groups=96, (using torch im2col GEMM)\n",
              "          (DCK): ConstructKernel2d(96, 96, kernel_count=26, version=gauss, dilated_kernel_size=(23, 23), groups=96)\n",
              "        )\n",
              "        (norm): LayerNorm()\n",
              "        (pwconv1): Linear(in_features=96, out_features=384, bias=True)\n",
              "        (act): GELU(approximate='none')\n",
              "        (pwconv2): Linear(in_features=384, out_features=96, bias=True)\n",
              "        (drop_path): Identity()\n",
              "      )\n",
              "    )\n",
              "    (1): Sequential(\n",
              "      (0): Block(\n",
              "        (dwconv): Dcls2d(\n",
              "          192, 192, kernel_count=26 (previous kernel_size), stride=(1, 1), version=gauss, padding=(11, 11), dilated_kernel_size=(23, 23) (learnable), groups=192, (using torch im2col GEMM)\n",
              "          (DCK): ConstructKernel2d(192, 192, kernel_count=26, version=gauss, dilated_kernel_size=(23, 23), groups=192)\n",
              "        )\n",
              "        (norm): LayerNorm()\n",
              "        (pwconv1): Linear(in_features=192, out_features=768, bias=True)\n",
              "        (act): GELU(approximate='none')\n",
              "        (pwconv2): Linear(in_features=768, out_features=192, bias=True)\n",
              "        (drop_path): Identity()\n",
              "      )\n",
              "      (1): Block(\n",
              "        (dwconv): Dcls2d(\n",
              "          192, 192, kernel_count=26 (previous kernel_size), stride=(1, 1), version=gauss, padding=(11, 11), dilated_kernel_size=(23, 23) (learnable), groups=192, (using torch im2col GEMM)\n",
              "          (DCK): ConstructKernel2d(192, 192, kernel_count=26, version=gauss, dilated_kernel_size=(23, 23), groups=192)\n",
              "        )\n",
              "        (norm): LayerNorm()\n",
              "        (pwconv1): Linear(in_features=192, out_features=768, bias=True)\n",
              "        (act): GELU(approximate='none')\n",
              "        (pwconv2): Linear(in_features=768, out_features=192, bias=True)\n",
              "        (drop_path): Identity()\n",
              "      )\n",
              "      (2): Block(\n",
              "        (dwconv): Dcls2d(\n",
              "          192, 192, kernel_count=26 (previous kernel_size), stride=(1, 1), version=gauss, padding=(11, 11), dilated_kernel_size=(23, 23) (learnable), groups=192, (using torch im2col GEMM)\n",
              "          (DCK): ConstructKernel2d(192, 192, kernel_count=26, version=gauss, dilated_kernel_size=(23, 23), groups=192)\n",
              "        )\n",
              "        (norm): LayerNorm()\n",
              "        (pwconv1): Linear(in_features=192, out_features=768, bias=True)\n",
              "        (act): GELU(approximate='none')\n",
              "        (pwconv2): Linear(in_features=768, out_features=192, bias=True)\n",
              "        (drop_path): Identity()\n",
              "      )\n",
              "    )\n",
              "    (2): Sequential(\n",
              "      (0): Block(\n",
              "        (dwconv): Dcls2d(\n",
              "          384, 384, kernel_count=26 (previous kernel_size), stride=(1, 1), version=gauss, padding=(11, 11), dilated_kernel_size=(23, 23) (learnable), groups=384, (using torch im2col GEMM)\n",
              "          (DCK): ConstructKernel2d(384, 384, kernel_count=26, version=gauss, dilated_kernel_size=(23, 23), groups=384)\n",
              "        )\n",
              "        (norm): LayerNorm()\n",
              "        (pwconv1): Linear(in_features=384, out_features=1536, bias=True)\n",
              "        (act): GELU(approximate='none')\n",
              "        (pwconv2): Linear(in_features=1536, out_features=384, bias=True)\n",
              "        (drop_path): Identity()\n",
              "      )\n",
              "      (1): Block(\n",
              "        (dwconv): Dcls2d(\n",
              "          384, 384, kernel_count=26 (previous kernel_size), stride=(1, 1), version=gauss, padding=(11, 11), dilated_kernel_size=(23, 23) (learnable), groups=384, (using torch im2col GEMM)\n",
              "          (DCK): ConstructKernel2d(384, 384, kernel_count=26, version=gauss, dilated_kernel_size=(23, 23), groups=384)\n",
              "        )\n",
              "        (norm): LayerNorm()\n",
              "        (pwconv1): Linear(in_features=384, out_features=1536, bias=True)\n",
              "        (act): GELU(approximate='none')\n",
              "        (pwconv2): Linear(in_features=1536, out_features=384, bias=True)\n",
              "        (drop_path): Identity()\n",
              "      )\n",
              "      (2): Block(\n",
              "        (dwconv): Dcls2d(\n",
              "          384, 384, kernel_count=26 (previous kernel_size), stride=(1, 1), version=gauss, padding=(11, 11), dilated_kernel_size=(23, 23) (learnable), groups=384, (using torch im2col GEMM)\n",
              "          (DCK): ConstructKernel2d(384, 384, kernel_count=26, version=gauss, dilated_kernel_size=(23, 23), groups=384)\n",
              "        )\n",
              "        (norm): LayerNorm()\n",
              "        (pwconv1): Linear(in_features=384, out_features=1536, bias=True)\n",
              "        (act): GELU(approximate='none')\n",
              "        (pwconv2): Linear(in_features=1536, out_features=384, bias=True)\n",
              "        (drop_path): Identity()\n",
              "      )\n",
              "      (3): Block(\n",
              "        (dwconv): Dcls2d(\n",
              "          384, 384, kernel_count=26 (previous kernel_size), stride=(1, 1), version=gauss, padding=(11, 11), dilated_kernel_size=(23, 23) (learnable), groups=384, (using torch im2col GEMM)\n",
              "          (DCK): ConstructKernel2d(384, 384, kernel_count=26, version=gauss, dilated_kernel_size=(23, 23), groups=384)\n",
              "        )\n",
              "        (norm): LayerNorm()\n",
              "        (pwconv1): Linear(in_features=384, out_features=1536, bias=True)\n",
              "        (act): GELU(approximate='none')\n",
              "        (pwconv2): Linear(in_features=1536, out_features=384, bias=True)\n",
              "        (drop_path): Identity()\n",
              "      )\n",
              "      (4): Block(\n",
              "        (dwconv): Dcls2d(\n",
              "          384, 384, kernel_count=26 (previous kernel_size), stride=(1, 1), version=gauss, padding=(11, 11), dilated_kernel_size=(23, 23) (learnable), groups=384, (using torch im2col GEMM)\n",
              "          (DCK): ConstructKernel2d(384, 384, kernel_count=26, version=gauss, dilated_kernel_size=(23, 23), groups=384)\n",
              "        )\n",
              "        (norm): LayerNorm()\n",
              "        (pwconv1): Linear(in_features=384, out_features=1536, bias=True)\n",
              "        (act): GELU(approximate='none')\n",
              "        (pwconv2): Linear(in_features=1536, out_features=384, bias=True)\n",
              "        (drop_path): Identity()\n",
              "      )\n",
              "      (5): Block(\n",
              "        (dwconv): Dcls2d(\n",
              "          384, 384, kernel_count=26 (previous kernel_size), stride=(1, 1), version=gauss, padding=(11, 11), dilated_kernel_size=(23, 23) (learnable), groups=384, (using torch im2col GEMM)\n",
              "          (DCK): ConstructKernel2d(384, 384, kernel_count=26, version=gauss, dilated_kernel_size=(23, 23), groups=384)\n",
              "        )\n",
              "        (norm): LayerNorm()\n",
              "        (pwconv1): Linear(in_features=384, out_features=1536, bias=True)\n",
              "        (act): GELU(approximate='none')\n",
              "        (pwconv2): Linear(in_features=1536, out_features=384, bias=True)\n",
              "        (drop_path): Identity()\n",
              "      )\n",
              "      (6): Block(\n",
              "        (dwconv): Dcls2d(\n",
              "          384, 384, kernel_count=26 (previous kernel_size), stride=(1, 1), version=gauss, padding=(11, 11), dilated_kernel_size=(23, 23) (learnable), groups=384, (using torch im2col GEMM)\n",
              "          (DCK): ConstructKernel2d(384, 384, kernel_count=26, version=gauss, dilated_kernel_size=(23, 23), groups=384)\n",
              "        )\n",
              "        (norm): LayerNorm()\n",
              "        (pwconv1): Linear(in_features=384, out_features=1536, bias=True)\n",
              "        (act): GELU(approximate='none')\n",
              "        (pwconv2): Linear(in_features=1536, out_features=384, bias=True)\n",
              "        (drop_path): Identity()\n",
              "      )\n",
              "      (7): Block(\n",
              "        (dwconv): Dcls2d(\n",
              "          384, 384, kernel_count=26 (previous kernel_size), stride=(1, 1), version=gauss, padding=(11, 11), dilated_kernel_size=(23, 23) (learnable), groups=384, (using torch im2col GEMM)\n",
              "          (DCK): ConstructKernel2d(384, 384, kernel_count=26, version=gauss, dilated_kernel_size=(23, 23), groups=384)\n",
              "        )\n",
              "        (norm): LayerNorm()\n",
              "        (pwconv1): Linear(in_features=384, out_features=1536, bias=True)\n",
              "        (act): GELU(approximate='none')\n",
              "        (pwconv2): Linear(in_features=1536, out_features=384, bias=True)\n",
              "        (drop_path): Identity()\n",
              "      )\n",
              "      (8): Block(\n",
              "        (dwconv): Dcls2d(\n",
              "          384, 384, kernel_count=26 (previous kernel_size), stride=(1, 1), version=gauss, padding=(11, 11), dilated_kernel_size=(23, 23) (learnable), groups=384, (using torch im2col GEMM)\n",
              "          (DCK): ConstructKernel2d(384, 384, kernel_count=26, version=gauss, dilated_kernel_size=(23, 23), groups=384)\n",
              "        )\n",
              "        (norm): LayerNorm()\n",
              "        (pwconv1): Linear(in_features=384, out_features=1536, bias=True)\n",
              "        (act): GELU(approximate='none')\n",
              "        (pwconv2): Linear(in_features=1536, out_features=384, bias=True)\n",
              "        (drop_path): Identity()\n",
              "      )\n",
              "    )\n",
              "    (3): Sequential(\n",
              "      (0): Block(\n",
              "        (dwconv): Dcls2d(\n",
              "          768, 768, kernel_count=26 (previous kernel_size), stride=(1, 1), version=gauss, padding=(11, 11), dilated_kernel_size=(23, 23) (learnable), groups=768, (using torch im2col GEMM)\n",
              "          (DCK): ConstructKernel2d(768, 768, kernel_count=26, version=gauss, dilated_kernel_size=(23, 23), groups=768)\n",
              "        )\n",
              "        (norm): LayerNorm()\n",
              "        (pwconv1): Linear(in_features=768, out_features=3072, bias=True)\n",
              "        (act): GELU(approximate='none')\n",
              "        (pwconv2): Linear(in_features=3072, out_features=768, bias=True)\n",
              "        (drop_path): Identity()\n",
              "      )\n",
              "      (1): Block(\n",
              "        (dwconv): Dcls2d(\n",
              "          768, 768, kernel_count=26 (previous kernel_size), stride=(1, 1), version=gauss, padding=(11, 11), dilated_kernel_size=(23, 23) (learnable), groups=768, (using torch im2col GEMM)\n",
              "          (DCK): ConstructKernel2d(768, 768, kernel_count=26, version=gauss, dilated_kernel_size=(23, 23), groups=768)\n",
              "        )\n",
              "        (norm): LayerNorm()\n",
              "        (pwconv1): Linear(in_features=768, out_features=3072, bias=True)\n",
              "        (act): GELU(approximate='none')\n",
              "        (pwconv2): Linear(in_features=3072, out_features=768, bias=True)\n",
              "        (drop_path): Identity()\n",
              "      )\n",
              "      (2): Block(\n",
              "        (dwconv): Dcls2d(\n",
              "          768, 768, kernel_count=26 (previous kernel_size), stride=(1, 1), version=gauss, padding=(11, 11), dilated_kernel_size=(23, 23) (learnable), groups=768, (using torch im2col GEMM)\n",
              "          (DCK): ConstructKernel2d(768, 768, kernel_count=26, version=gauss, dilated_kernel_size=(23, 23), groups=768)\n",
              "        )\n",
              "        (norm): LayerNorm()\n",
              "        (pwconv1): Linear(in_features=768, out_features=3072, bias=True)\n",
              "        (act): GELU(approximate='none')\n",
              "        (pwconv2): Linear(in_features=3072, out_features=768, bias=True)\n",
              "        (drop_path): Identity()\n",
              "      )\n",
              "    )\n",
              "  )\n",
              "  (norm): LayerNorm((768,), eps=1e-06, elementwise_affine=True)\n",
              "  (head): Linear(in_features=768, out_features=10, bias=True)\n",
              ")"
            ]
          },
          "metadata": {},
          "execution_count": 32
        }
      ],
      "source": [
        "# Replace the last fully connected layer to match the number of classes in STL-10\n",
        "num_classes = 10\n",
        "model_dcls.head = nn.Linear(768, num_classes)\n",
        "model_dcls.to(device)"
      ]
    },
    {
      "cell_type": "code",
      "execution_count": null,
      "metadata": {
        "id": "ALJlgFBcUfI0"
      },
      "outputs": [],
      "source": [
        "# Define loss function and optimizer\n",
        "criterion = nn.CrossEntropyLoss()\n",
        "optimizer = optim.Adam(model_dcls.head.parameters(), lr=0.001)"
      ]
    },
    {
      "cell_type": "code",
      "execution_count": null,
      "metadata": {
        "colab": {
          "base_uri": "https://localhost:8080/"
        },
        "id": "KtSLRbVoUfI0",
        "outputId": "0a6437c2-ab39-4fad-88ec-609e9b7f349a"
      },
      "outputs": [
        {
          "output_type": "stream",
          "name": "stdout",
          "text": [
            "Epoch [1/10]: Train Loss: 1.1954 | Train Acc: 84.66% | Test Loss: 0.5591 | Test Acc: 94.05%\n",
            "Epoch [2/10]: Train Loss: 0.4010 | Train Acc: 95.08% | Test Loss: 0.3136 | Test Acc: 95.19%\n",
            "Epoch [3/10]: Train Loss: 0.2589 | Train Acc: 95.54% | Test Loss: 0.2378 | Test Acc: 95.28%\n",
            "Epoch [4/10]: Train Loss: 0.2033 | Train Acc: 96.00% | Test Loss: 0.2012 | Test Acc: 95.60%\n",
            "Epoch [5/10]: Train Loss: 0.1815 | Train Acc: 96.22% | Test Loss: 0.1771 | Test Acc: 95.92%\n",
            "Epoch [6/10]: Train Loss: 0.1604 | Train Acc: 96.46% | Test Loss: 0.1658 | Test Acc: 96.08%\n",
            "Epoch [7/10]: Train Loss: 0.1407 | Train Acc: 96.76% | Test Loss: 0.1557 | Test Acc: 96.24%\n",
            "Epoch [8/10]: Train Loss: 0.1343 | Train Acc: 96.66% | Test Loss: 0.1486 | Test Acc: 96.09%\n",
            "Epoch [9/10]: Train Loss: 0.1228 | Train Acc: 97.08% | Test Loss: 0.1422 | Test Acc: 96.17%\n",
            "Epoch [10/10]: Train Loss: 0.1097 | Train Acc: 97.20% | Test Loss: 0.1373 | Test Acc: 96.33%\n",
            "Elapsed time: 312.37 (s)\n"
          ]
        }
      ],
      "source": [
        "# train and test the model\n",
        "convnext_dcls_gauss_tiny_stats = train_and_test(model_dcls, criterion, optimizer)"
      ]
    },
    {
      "cell_type": "code",
      "execution_count": null,
      "metadata": {
        "colab": {
          "base_uri": "https://localhost:8080/",
          "height": 472
        },
        "id": "xlMBx63OUfI0",
        "outputId": "97f8025a-81a9-4f4f-b71f-a20aa2484f7d"
      },
      "outputs": [
        {
          "output_type": "display_data",
          "data": {
            "text/plain": [
              "<Figure size 640x480 with 4 Axes>"
            ],
            "image/png": "[encoded data removed]"
          },
          "metadata": {}
        }
      ],
      "source": [
        "fig, axs = plt.subplots(2, 2)\n",
        "axs[0, 0].plot(convnext_tiny_stats['train_loss'], label='convnext-t')\n",
        "axs[0, 0].plot(convnext_dcls_gauss_tiny_stats['train_loss'], label='convnext-dcls-t')\n",
        "axs[0, 0].set_title('train_loss')\n",
        "axs[0, 1].plot(convnext_tiny_stats['test_loss'], label='convnext-t')\n",
        "axs[0, 1].plot(convnext_dcls_gauss_tiny_stats['test_loss'], label='convnext-dcls-t')\n",
        "axs[0, 1].set_title('test_loss')\n",
        "axs[1, 0].plot(convnext_tiny_stats['train_acc'], label='convnext-t')\n",
        "axs[1, 0].plot(convnext_dcls_gauss_tiny_stats['train_acc'], label='convnext-dcls-t')\n",
        "axs[1, 0].set_title('train_acc')\n",
        "axs[1, 1].plot(convnext_tiny_stats['test_acc'], label='convnext-t')\n",
        "axs[1, 1].plot(convnext_dcls_gauss_tiny_stats['test_acc'], label='convnext-dcls-t')\n",
        "axs[1, 1].set_title('test_acc')\n",
        "\n",
        "for ax in axs.flat[:1]:\n",
        "    ax.set(xlabel='epochs', ylabel='loss')\n",
        "for ax in axs.flat[2:]:\n",
        "    ax.set(xlabel='epochs', ylabel='top1-acc')\n",
        "\n",
        "# Hide x labels and tick labels for top plots and y ticks for right plots.\n",
        "for ax in axs.flat:\n",
        "    ax.label_outer()\n",
        "\n",
        "ax.legend()\n",
        "fig.show()"
      ]
    },
    {
      "cell_type": "markdown",
      "metadata": {
        "id": "n8KGpWEEUfI1"
      },
      "source": [
        "# Conclusion\n",
        "Based on the observations from the last plot, it is evident that the pretrained ConvNeXt-T model with DCLS outperforms the pretrained baseline in terms of train and test losses as well as test accuracy for the fine-tuning task on STL-10, while having the same number of trainable parameters.\n",
        "\n",
        "Additionally, it is worth noting that the ConvNeXt-T model took approximately 205 seconds on a single T4 gpu to complete the 10 fine-tuning epochs, while the ConvNeXt-DCLS-T model took around 310 seconds to achieve the same. This discrepancy is attributed to the larger kernel size utilized in the DCLS method (23 by 23 compared to the baseline's 7 by 7).\n",
        "\n",
        "To achieve a similar throughput, and as raised by the warning: \"WARNING:root:DepthWiseConv2dImplicitGEMM not installed, switching to native conv2d\",  it is recommended  to install the DepthWiseConv2dImplicitGEMM, developed by [MegEngine](https://github.com/MegEngine/cutlass), instead of the native PyTorch Conv2d. To install and enable the DepthWiseConv2dImplicitGEMM, please follow the instructions of [RepLKNet](https://github.com/DingXiaoH/RepLKNet-pytorch#use-our-efficient-large-kernel-convolution-with-pytorch)."
      ]
    }
  ],
  "metadata": {
    "kernelspec": {
      "display_name": "Python 3",
      "name": "python3"
    },
    "language_info": {
      "codemirror_mode": {
        "name": "ipython",
        "version": 3
      },
      "file_extension": ".py",
      "mimetype": "text/x-python",
      "name": "python",
      "nbconvert_exporter": "python",
      "pygments_lexer": "ipython3",
      "version": "3.8.10"
    },
    "colab": {
      "provenance": [],
      "gpuType": "T4"
    },
    "accelerator": "GPU"
  },
  "nbformat": 4,
  "nbformat_minor": 0
}
