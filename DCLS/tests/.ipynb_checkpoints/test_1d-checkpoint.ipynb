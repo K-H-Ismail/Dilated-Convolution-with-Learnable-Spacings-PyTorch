{
 "cells": [
  {
   "cell_type": "code",
   "execution_count": 2,
   "metadata": {},
   "outputs": [
    {
     "name": "stdout",
     "output_type": "stream",
     "text": [
      "tensor([[[1000., 1200., 1400., 1600., 1800., 2000., 2200., 2400., 2600., 2800.]]],\n",
      "       device='cuda:0', grad_fn=<SqueezeBackward1>)\n",
      "tensor([[[ 999.7181, 1199.7181, 1399.7181, 1599.7181, 1799.7181, 1999.7181,\n",
      "          2199.7183, 2399.7183, 2599.7183, 2799.7183]]], device='cuda:0',\n",
      "       grad_fn=<SqueezeBackward1>)\n",
      "tensor([[[19.2748, 25.3297, 31.3847, 37.4397]]], device='cuda:0')\n",
      "tensor([[[19.2749, 25.3298, 31.3847, 37.4396]]], device='cuda:0')\n",
      "tensor([[[ 3.1929,  3.8289, 10.8507, 12.7588, 24.2455, 28.0616, 44.6492,\n",
      "          51.0094, 57.3696, 63.7298, 60.5369, 66.2611, 52.8791, 57.3313,\n",
      "          33.1242, 35.6683]]], device='cuda:0')\n",
      "tensor([[[ 3.1924,  3.8285, 10.8495, 12.7578, 24.2434, 28.0600, 44.6463,\n",
      "          51.0074, 57.3684, 63.7295, 60.5371, 66.2621, 52.8800, 57.3328,\n",
      "          33.1251, 35.6695]]], device='cuda:0')\n"
     ]
    }
   ],
   "source": [
    "import time\n",
    "import torch\n",
    "\n",
    "\n",
    "\n",
    "from modules.Dcls1d import Dcls1d\n",
    "\n",
    "\n",
    "import os\n",
    "os.environ['CUDA_LAUNCH_BLOCKING'] = '1'\n",
    "\n",
    "assert torch.cuda.is_available()\n",
    "cuda_device = torch.device(\"cuda\")  # device object representing GPU\n",
    "\n",
    "batch = 1\n",
    "size_sig = 16\n",
    "in_channels = 1\n",
    "out_channels = 1\n",
    "kernel_size = 4\n",
    "dilation = 2\n",
    "stride = 1\n",
    "padding = 0\n",
    "groups = 1\n",
    "bias = False\n",
    "\n",
    "m = torch.nn.Conv1d(in_channels=in_channels,\n",
    "              out_channels=out_channels,\n",
    "              kernel_size=kernel_size,\n",
    "              dilation=dilation,\n",
    "              stride=stride,\n",
    "              padding=padding,\n",
    "              groups=groups,\n",
    "              bias=bias).to(cuda_device)\n",
    "n = Dcls1d(in_channels=in_channels,\n",
    "              out_channels=out_channels,\n",
    "              kernel_size=kernel_size,\n",
    "              dilation=dilation,\n",
    "              stride=stride,\n",
    "              padding=padding,\n",
    "              groups=groups,\n",
    "              bias=bias).to(cuda_device)\n",
    "\n",
    "m.weight = torch.nn.Parameter(\n",
    "                      torch.tensor([[[20., 40.,60., 80.]]],device=cuda_device),\n",
    "                     requires_grad = True)\n",
    "n.weight = torch.nn.Parameter(\n",
    "                      torch.tensor([[[20., 40.,60., 80.]]],device=cuda_device),\n",
    "                     requires_grad = True)\n",
    "X1 = torch.nn.Parameter(\n",
    "                      torch.tensor([[[1., 2., 3., 4., 5., 6., 7., 8., 9., 10., 11., 12.,13., 14., 15., 16.]]],device=cuda_device),\n",
    "                      requires_grad = True) \n",
    "X2 = torch.nn.Parameter(\n",
    "                      torch.tensor([[[1., 2., 3., 4., 5., 6., 7., 8., 9., 10., 11., 12.,13., 14., 15., 16.]]],device=cuda_device),\n",
    "                      requires_grad = True) \n",
    "print(m(X1))\n",
    "print(n(X2))\n",
    "\n",
    "back_truth = torch.nn.Parameter(\n",
    "                      torch.tensor([[[1., 2., 3., 4., 5., 6., 7., 8., 9., 10.]]],device=cuda_device),\n",
    "                     requires_grad = True)\n",
    "\n",
    "var2 = (n(X2) - back_truth).norm()\n",
    "var1 = (m(X1) - back_truth).norm()\n",
    "\n",
    "var1.backward();\n",
    "var2.backward();\n",
    "\n",
    "print(m.weight.grad) \n",
    "print(n.weight.grad)\n",
    "\n",
    "print(X1.grad) \n",
    "print(X2.grad)"
   ]
  },
  {
   "cell_type": "code",
   "execution_count": 15,
   "metadata": {},
   "outputs": [],
   "source": [
    "batch = 256\n",
    "in_channels = 512\n",
    "out_channels = 1024\n",
    "stride = 1\n",
    "padding = 0\n",
    "dilation = 4\n",
    "kernel_size = 3\n",
    "img_size = 2240\n",
    "bias = False\n",
    "groups = 1\n",
    "    \n",
    "\n",
    "m = torch.nn.Conv1d(in_channels=in_channels,\n",
    "              out_channels=out_channels,\n",
    "              kernel_size=kernel_size,\n",
    "              dilation=dilation,\n",
    "              stride=stride,\n",
    "              padding=padding,\n",
    "              groups=groups,\n",
    "              bias=bias).to(cuda_device)\n",
    "\n",
    "\n",
    "\n",
    "n = Dcls1d(in_channels=in_channels,\n",
    "              out_channels=out_channels,\n",
    "              kernel_size=kernel_size,\n",
    "              dilation=dilation,\n",
    "              stride=stride,\n",
    "              padding=padding,\n",
    "              groups=groups,\n",
    "              bias=bias).to(cuda_device)\n",
    "n.weight = m.weight\n",
    "\n",
    "\n",
    "\n",
    "Y = torch.nn.Parameter(torch.randn((batch,in_channels,img_size),device=cuda_device))"
   ]
  },
  {
   "cell_type": "code",
   "execution_count": 16,
   "metadata": {},
   "outputs": [
    {
     "name": "stdout",
     "output_type": "stream",
     "text": [
      "Forward: 869407.701 us | Backward 1571428.609 us\n"
     ]
    }
   ],
   "source": [
    "forward = 0\n",
    "backward = 0\n",
    "for _ in range(10):\n",
    "    start = time.time()\n",
    "    c = m(Y)\n",
    "    torch.cuda.synchronize()\n",
    "    forward += time.time() - start\n",
    "\n",
    "    start = time.time()\n",
    "    (c.sum() ).backward()\n",
    "    torch.cuda.synchronize()\n",
    "    backward += time.time() - start\n",
    "\n",
    "print('Forward: {:.3f} us | Backward {:.3f} us'.format(forward * 1e6/1e1, backward * 1e6/1e1))"
   ]
  },
  {
   "cell_type": "code",
   "execution_count": 17,
   "metadata": {},
   "outputs": [
    {
     "name": "stdout",
     "output_type": "stream",
     "text": [
      "Forward: 869180.369 us | Backward 1604491.234 us\n"
     ]
    }
   ],
   "source": [
    "forward = 0\n",
    "backward = 0\n",
    "for _ in range(10):\n",
    "    start = time.time()\n",
    "    d = n(Y)\n",
    "    torch.cuda.synchronize()\n",
    "    forward += time.time() - start\n",
    "\n",
    "    start = time.time()\n",
    "    (d.sum() ).backward()\n",
    "    torch.cuda.synchronize()\n",
    "    backward += time.time() - start\n",
    "\n",
    "print('Forward: {:.3f} us | Backward {:.3f} us'.format(forward * 1e6/1e1, backward * 1e6/1e1))"
   ]
  },
  {
   "cell_type": "code",
   "execution_count": null,
   "metadata": {},
   "outputs": [],
   "source": []
  }
 ],
 "metadata": {
  "kernelspec": {
   "display_name": "Python 3",
   "language": "python",
   "name": "python3"
  },
  "language_info": {
   "codemirror_mode": {
    "name": "ipython",
    "version": 3
   },
   "file_extension": ".py",
   "mimetype": "text/x-python",
   "name": "python",
   "nbconvert_exporter": "python",
   "pygments_lexer": "ipython3",
   "version": "3.8.5"
  }
 },
 "nbformat": 4,
 "nbformat_minor": 4
}
